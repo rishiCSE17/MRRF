{
 "cells": [
  {
   "cell_type": "markdown",
   "metadata": {},
   "source": [
    "# System Model\n",
    "\n",
    "* let the follwoing is the topology of an SDN. \n",
    "* The controller is connected to `fe0/0` interface for each OVS names as $r_i$\n",
    "* hence the adjacency matrix for the given topology would look like\n",
    "\n",
    "  $\\begin{bmatrix}\n",
    "   0 & 1 & 1 & 0 & 0 & 1\\\\\n",
    "   1 & 0 & 0 & 0 & 0 & 1\\\\\n",
    "   1 & 0 & 0 & 1 & 1 & 0\\\\\n",
    "   0 & 0 & 1 & 0 & 1 & 1\\\\\n",
    "   0 & 0 & 1 & 1 & 0 & 0\\\\\n",
    "   1 & 1 & 0 & 1 & 0 & 0\\\\\n",
    "  \\end{bmatrix}$ "
   ]
  },
  {
   "cell_type": "markdown",
   "metadata": {},
   "source": [
    "![Figure 1 : Initial Topology](initial_topo.svg)"
   ]
  },
  {
   "cell_type": "code",
   "execution_count": 154,
   "metadata": {},
   "outputs": [],
   "source": [
    "import networkx as nx\n",
    "import pandas as pd\n",
    "import random\n",
    "import matplotlib.pyplot as plt\n",
    "\n",
    "%matplotlib inline"
   ]
  },
  {
   "cell_type": "markdown",
   "metadata": {},
   "source": [
    "lets crete a 2D list useing the adjacency matrix and assign random weight on the edges"
   ]
  },
  {
   "cell_type": "code",
   "execution_count": 155,
   "metadata": {},
   "outputs": [
    {
     "data": {
      "text/html": [
       "<div>\n",
       "<style scoped>\n",
       "    .dataframe tbody tr th:only-of-type {\n",
       "        vertical-align: middle;\n",
       "    }\n",
       "\n",
       "    .dataframe tbody tr th {\n",
       "        vertical-align: top;\n",
       "    }\n",
       "\n",
       "    .dataframe thead th {\n",
       "        text-align: right;\n",
       "    }\n",
       "</style>\n",
       "<table border=\"1\" class=\"dataframe\">\n",
       "  <thead>\n",
       "    <tr style=\"text-align: right;\">\n",
       "      <th></th>\n",
       "      <th>0</th>\n",
       "      <th>1</th>\n",
       "      <th>2</th>\n",
       "      <th>3</th>\n",
       "      <th>4</th>\n",
       "      <th>5</th>\n",
       "    </tr>\n",
       "  </thead>\n",
       "  <tbody>\n",
       "    <tr>\n",
       "      <th>0</th>\n",
       "      <td>0</td>\n",
       "      <td>7</td>\n",
       "      <td>7</td>\n",
       "      <td>0</td>\n",
       "      <td>0</td>\n",
       "      <td>8</td>\n",
       "    </tr>\n",
       "    <tr>\n",
       "      <th>1</th>\n",
       "      <td>3</td>\n",
       "      <td>0</td>\n",
       "      <td>0</td>\n",
       "      <td>0</td>\n",
       "      <td>0</td>\n",
       "      <td>3</td>\n",
       "    </tr>\n",
       "    <tr>\n",
       "      <th>2</th>\n",
       "      <td>4</td>\n",
       "      <td>0</td>\n",
       "      <td>0</td>\n",
       "      <td>7</td>\n",
       "      <td>2</td>\n",
       "      <td>0</td>\n",
       "    </tr>\n",
       "    <tr>\n",
       "      <th>3</th>\n",
       "      <td>0</td>\n",
       "      <td>0</td>\n",
       "      <td>4</td>\n",
       "      <td>0</td>\n",
       "      <td>6</td>\n",
       "      <td>5</td>\n",
       "    </tr>\n",
       "    <tr>\n",
       "      <th>4</th>\n",
       "      <td>0</td>\n",
       "      <td>0</td>\n",
       "      <td>8</td>\n",
       "      <td>4</td>\n",
       "      <td>0</td>\n",
       "      <td>0</td>\n",
       "    </tr>\n",
       "    <tr>\n",
       "      <th>5</th>\n",
       "      <td>3</td>\n",
       "      <td>10</td>\n",
       "      <td>0</td>\n",
       "      <td>3</td>\n",
       "      <td>0</td>\n",
       "      <td>0</td>\n",
       "    </tr>\n",
       "  </tbody>\n",
       "</table>\n",
       "</div>"
      ],
      "text/plain": [
       "   0   1  2  3  4  5\n",
       "0  0   7  7  0  0  8\n",
       "1  3   0  0  0  0  3\n",
       "2  4   0  0  7  2  0\n",
       "3  0   0  4  0  6  5\n",
       "4  0   0  8  4  0  0\n",
       "5  3  10  0  3  0  0"
      ]
     },
     "execution_count": 155,
     "metadata": {},
     "output_type": "execute_result"
    }
   ],
   "source": [
    "b_adj = [[0,1,1,0,0,1],\n",
    "       [1,0,0,0,0,1],\n",
    "       [1,0,0,1,1,0],\n",
    "       [0,0,1,0,1,1],\n",
    "       [0,0,1,1,0,0],\n",
    "       [1,1,0,1,0,0]]\n",
    "node_count=6\n",
    "'''\n",
    "input  : a binary adjacency matrix (b_adj))\n",
    "output : a random weight adjacency matrix (r_adj) wrt b_adj  \n",
    "'''\n",
    "def generate_random_weight_graph(adj):\n",
    "    random_adj=[]\n",
    "    \n",
    "    for rows in adj:\n",
    "        temp_row=[]\n",
    "        for elem in rows:\n",
    "            if elem == 1:\n",
    "                temp_row.append(random.randint(1,10))\n",
    "            else:\n",
    "                temp_row.append(0)\n",
    "        random_adj.append(temp_row)\n",
    "    \n",
    "    return random_adj\n",
    "\n",
    "r_adj = generate_random_weight_graph(b_adj)\n",
    "pd.DataFrame(r_adj)"
   ]
  },
  {
   "cell_type": "markdown",
   "metadata": {},
   "source": [
    "now supply `r_adj` to `NetworkX` library to graw a graph "
   ]
  },
  {
   "cell_type": "code",
   "execution_count": 157,
   "metadata": {},
   "outputs": [
    {
     "name": "stdout",
     "output_type": "stream",
     "text": [
      "   0  1  2  3  4  5\n",
      "0  0  8  4  0  0  5\n",
      "1  7  0  0  0  0  8\n",
      "2  9  0  0  2  8  0\n",
      "3  0  0  9  0  8  3\n",
      "4  0  0  8  4  0  0\n",
      "5  3  3  0  1  0  0\n"
     ]
    },
    {
     "data": {
      "image/png": "[encoded data removed]",
      "text/plain": [
       "<matplotlib.figure.Figure at 0x16359d54ef0>"
      ]
     },
     "metadata": {},
     "output_type": "display_data"
    }
   ],
   "source": [
    "r_adj = generate_random_weight_graph(b_adj)\n",
    "G = nx.MultiDiGraph()\n",
    "def add_edges(graph, adj):\n",
    "    for i in range(len(adj)):\n",
    "        for j in range(len(adj[i])):\n",
    "            if adj[i][j] != 0:\n",
    "                graph.add_edge(i+1,j+1,weight=adj[i][j])\n",
    "            else:\n",
    "                pass\n",
    "                \n",
    "add_edges(G,r_adj)\n",
    "print(pd.DataFrame(r_adj))\n",
    "nx.draw(G, pos=nx.spring_layout(G), with_labels=True)"
   ]
  },
  {
   "cell_type": "markdown",
   "metadata": {},
   "source": [
    "each node here is an acting OVS hence they have some sort of utilization. `generate_random_util()` function rakes the `r_adj`, generates some random utilization factors and modifies it into another `r_n_adj` "
   ]
  },
  {
   "cell_type": "code",
   "execution_count": 153,
   "metadata": {},
   "outputs": [
    {
     "name": "stdout",
     "output_type": "stream",
     "text": [
      "    0   1   2   3  4   5\n",
      "0  30  10   9   0  0   9\n",
      "1   5  52   0   0  0   9\n",
      "2   4   0  17   3  2   0\n",
      "3   0   0   7  49  7  10\n",
      "4   0   0   2   4  8   0\n",
      "5   7   6   0   9  0  96\n"
     ]
    },
    {
     "data": {
      "text/plain": [
       "'\\nr_n_adj=generate_random_util(r_adj)\\n\\nfor i in node_prop:\\n    print(i)\\npd.DataFrame(r_n_adj)\\n'"
      ]
     },
     "execution_count": 153,
     "metadata": {},
     "output_type": "execute_result"
    }
   ],
   "source": [
    "def generate_random_util(adj):\n",
    "    r_n_adj = list(adj)\n",
    "    node_prop = [ \n",
    "                    {'ip' : '10.0.0.1', 'util' : random.randint(0,100)},\n",
    "                    {'ip' : '10.0.0.2', 'util' : random.randint(0,100)},\n",
    "                    {'ip' : '10.0.0.3', 'util' : random.randint(0,100)},\n",
    "                    {'ip' : '10.0.0.4', 'util' : random.randint(0,100)},\n",
    "                    {'ip' : '10.0.0.5', 'util' : random.randint(0,100)},\n",
    "                    {'ip' : '10.0.0.6', 'util' : random.randint(0,100)}\n",
    "                ]\n",
    "    for i in range(len(node_prop)):\n",
    "        r_n_adj[i][i] = node_prop[i]['util']\n",
    "    return r_n_adj \n",
    "\n",
    "print(pd.DataFrame(r_adj))\n",
    "'''\n",
    "r_n_adj=generate_random_util(r_adj)\n",
    "\n",
    "for i in node_prop:\n",
    "    print(i)\n",
    "pd.DataFrame(r_n_adj)\n",
    "'''"
   ]
  },
  {
   "cell_type": "code",
   "execution_count": 159,
   "metadata": {},
   "outputs": [
    {
     "name": "stdout",
     "output_type": "stream",
     "text": [
      "   0  1  2  3  4  5\n",
      "0  0  1  1  0  0  1\n",
      "1  1  0  0  0  0  1\n",
      "2  1  0  0  1  1  0\n",
      "3  0  0  1  0  1  1\n",
      "4  0  0  1  1  0  0\n",
      "5  1  1  0  1  0  0 \n",
      "-------------------------------\n",
      "    0   1   2   3   4   5\n",
      "0   5   9   1   0   0   2\n",
      "1  10  54   0   0   0   6\n",
      "2   1   0  47  10   6   0\n",
      "3   0   0  10  79   8   1\n",
      "4   0   0   5   4  14   0\n",
      "5   4   1   0   8   0  84 \n",
      "-------------------------------\n",
      "    0   1   2   3   4   5\n",
      "0   5   9   1   0   0   2\n",
      "1  10  54   0   0   0   6\n",
      "2   1   0  47  10   6   0\n",
      "3   0   0  10  79   8   1\n",
      "4   0   0   5   4  14   0\n",
      "5   4   1   0   8   0  84 \n",
      "-------------------------------\n"
     ]
    },
    {
     "data": {
      "text/plain": [
       "\"\\nG.graph['edge'] = {'splines' : 'curved'}\\n\\nA = to_agraph(G)\\nA.layout('dot')\\nA.draw()\\n\""
      ]
     },
     "execution_count": 159,
     "metadata": {},
     "output_type": "execute_result"
    },
    {
     "data": {
      "image/png": "[encoded data removed]",
      "text/plain": [
       "<matplotlib.figure.Figure at 0x163598d9c88>"
      ]
     },
     "metadata": {},
     "output_type": "display_data"
    }
   ],
   "source": [
    "r_adj = generate_random_weight_graph(b_adj)\n",
    "r_n_adj= generate_random_util(r_adj)\n",
    "\n",
    "G = nx.DiGraph()\n",
    "\n",
    "def add_edges(graph, adj):\n",
    "    for i in range(len(adj)):\n",
    "        for j in range(len(adj[i])):\n",
    "            if adj[i][j] != 0:\n",
    "                graph.add_edge(i+1,j+1,weight=adj[i][j])\n",
    "            else:\n",
    "                pass\n",
    "                \n",
    "add_edges(G,r_n_adj)\n",
    "\n",
    "print(f'{pd.DataFrame(b_adj)} \\n-------------------------------')\n",
    "print(f'{pd.DataFrame(r_adj)} \\n-------------------------------')\n",
    "print(f'{pd.DataFrame(r_n_adj)} \\n-------------------------------')\n",
    "\n",
    "nx.draw(G, with_labels=True)\n",
    "\n",
    "'''\n",
    "G.graph['edge'] = {'splines' : 'curved'}\n",
    "\n",
    "A = to_agraph(G)\n",
    "A.layout('dot')\n",
    "A.draw()\n",
    "'''"
   ]
  },
  {
   "cell_type": "code",
   "execution_count": 140,
   "metadata": {},
   "outputs": [
    {
     "ename": "AttributeError",
     "evalue": "'AtlasView' object has no attribute 'degree'",
     "output_type": "error",
     "traceback": [
      "\u001b[1;31m---------------------------------------------------------------------------\u001b[0m",
      "\u001b[1;31mAttributeError\u001b[0m                            Traceback (most recent call last)",
      "\u001b[1;32m<ipython-input-140-d9eab3ad23ad>\u001b[0m in \u001b[0;36m<module>\u001b[1;34m()\u001b[0m\n\u001b[1;32m----> 1\u001b[1;33m \u001b[0mprint\u001b[0m\u001b[1;33m(\u001b[0m\u001b[0mG\u001b[0m\u001b[1;33m[\u001b[0m\u001b[1;36m1\u001b[0m\u001b[1;33m]\u001b[0m\u001b[1;33m.\u001b[0m\u001b[0mdegree\u001b[0m\u001b[1;33m(\u001b[0m\u001b[1;33m)\u001b[0m\u001b[1;33m)\u001b[0m\u001b[1;33m\u001b[0m\u001b[0m\n\u001b[0m",
      "\u001b[1;31mAttributeError\u001b[0m: 'AtlasView' object has no attribute 'degree'"
     ]
    }
   ],
   "source": []
  },
  {
   "cell_type": "code",
   "execution_count": 2,
   "metadata": {},
   "outputs": [
    {
     "name": "stdout",
     "output_type": "stream",
     "text": [
      "[13, 40, 42]\n",
      "[13, 40, 42]\n",
      "[39, 71, 31]\n",
      "[39, 71, 31]\n",
      "[87, 38, 67]\n",
      "[87, 38, 67]\n",
      "[60, 69]\n",
      "[60, 69]\n",
      "[79, 94]\n",
      "[79, 94]\n",
      "[74, 97, 54]\n",
      "[74, 97, 54]\n",
      "random_affinity\n",
      "[13, 40, 42]\n",
      "[39, 71, 31]\n",
      "[87, 38, 67]\n",
      "[60, 69]\n",
      "[79, 94]\n",
      "[74, 97, 54]\n"
     ]
    }
   ],
   "source": [
    "import random\n",
    "matrix = [[0,1,0,0,1,1],\n",
    "          [1,0,1,1,0,0],\n",
    "          [0,1,0,1,0,1],\n",
    "          [0,1,1,0,0,0],\n",
    "          [1,0,0,0,0,1],\n",
    "          [1,0,1,0,1,0]]\n",
    "\n",
    "def print_matrix(title, matrix):\n",
    "    print(title)\n",
    "    for row in matrix:\n",
    "        print(row)\n",
    "    \n",
    "def get_adjacect_index(matrix):\n",
    "    adj_indx=[]\n",
    "    for row in matrix:\n",
    "        index_row=[]\n",
    "        for elem in range(len(row)):\n",
    "            if row[elem] == 1:\n",
    "                index_row.append(elem)\n",
    "        adj_indx.append(index_row)\n",
    "    return adj_indx\n",
    "\n",
    "def get_random_affinity(matrix):\n",
    "    rand_temp=[]\n",
    "    for row in matrix:\n",
    "        temp=[]\n",
    "        for i in range(len(row)):\n",
    "            temp.append(random.randint(0,100))\n",
    "        print(temp)\n",
    "        for elem in temp:\n",
    "            elem = ((elem - min(temp))/(max(temp) - min(temp)))\n",
    "        print(temp)\n",
    "        rand_temp.append(temp)\n",
    "    return rand_temp\n",
    "     \n",
    "        \n",
    "               \n",
    "#print_matrix('adjacency', matrix)\n",
    "#print_matrix('adj_index',adj_indx)\n",
    "\n",
    "print_matrix('random_affinity',get_random_affinity(get_adjacect_index(matrix)))\n",
    "\n"
   ]
  },
  {
   "cell_type": "code",
   "execution_count": 7,
   "metadata": {},
   "outputs": [
    {
     "name": "stdout",
     "output_type": "stream",
     "text": [
      "[1, 4, 5]\n",
      "[0, 2, 3]\n",
      "[1, 3, 5]\n",
      "[1, 2]\n",
      "[0, 5]\n",
      "[0, 2, 4]\n"
     ]
    }
   ],
   "source": []
  },
  {
   "cell_type": "code",
   "execution_count": 22,
   "metadata": {},
   "outputs": [
    {
     "name": "stdout",
     "output_type": "stream",
     "text": [
      "[[13  0 42]\n",
      " [13 40  0]\n",
      " [39 71 31]\n",
      " [ 0  0 31]\n",
      " [87 38  0]\n",
      " [87  0 67]]\n",
      "[ 0  2  3  4  6  7  8 11 12 13 15 17]\n"
     ]
    }
   ],
   "source": [
    "import numpy as np\n",
    "import pandas as pd\n",
    "\n",
    "a=[[13, 0, 42],\n",
    "[13, 40, 0],\n",
    "[39, 71, 31],\n",
    "[0, 0, 31],\n",
    "[87, 38, 0],\n",
    "[87, 0, 67]]\n",
    "\n",
    "mat = np.matrix(a)\n",
    "print(mat)\n",
    "\n",
    "size = mat.shape[0] * mat.shape[1]\n",
    "arr=mat.reshape(size)\n",
    "#print(arr)\n",
    "\n",
    "indx=np.where(arr != 0)[1]\n",
    "print(indx)"
   ]
  },
  {
   "cell_type": "code",
   "execution_count": null,
   "metadata": {},
   "outputs": [],
   "source": []
  }
 ],
 "metadata": {
  "kernelspec": {
   "display_name": "Python 3",
   "language": "python",
   "name": "python3"
  },
  "language_info": {
   "codemirror_mode": {
    "name": "ipython",
    "version": 3
   },
   "file_extension": ".py",
   "mimetype": "text/x-python",
   "name": "python",
   "nbconvert_exporter": "python",
   "pygments_lexer": "ipython3",
   "version": "3.6.4"
  }
 },
 "nbformat": 4,
 "nbformat_minor": 2
}
