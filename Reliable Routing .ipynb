{
 "cells": [
  {
   "cell_type": "markdown",
   "metadata": {},
   "source": [
    "# Random Matrix Transformation\n",
    "\n",
    "the proposed routing algoritm is based on manipulation of the adjacency matrix. Henece in its life cycle it transforms the given adjacncny matrix several time and based on that it takes decissions. \n",
    "\n",
    "## Terminologies\n",
    "for a given topology let's the corresponding undirected graph is $G(V,E)$ where $V$ and $E$ are the vertex and edge set respectvely. Let $n=|V|$ represents the number of vertices in the graph, hence the size of the $E$ for a non-disconnected graph be in a close interval of $[(n-1) , n(n-1)/2]$ \n",
    "\n",
    "### adjacnecy Matrices \n",
    "* $Adj_b$ is the binary adjacency matrix given by the topology, $Adj_b[i][j] \\in  \\{0,1\\}$ <br>\n",
    ">  if $ v_i , v_j \\in V $ are adjacent $ \\rightarrow $ 1 else 0\n",
    "* $Adj_e$ is the random adjacency matrix where edges are randomly weighted representing the change in link utilization <br>\n",
    "> $ Adj_e = Rand \\cdot Adj_b$\n",
    "* $Adj_n$ is the random matrix where the digonal positions are ramdomly weighted representting rhe change in node utilization <br>\n",
    "> $Adj_n = (Rand \\cdot I) + Adj_e = (Rand \\cdot I) + (Rand \\cdot Adj_b)$ <br>\n",
    "* $Affinity$ is a matrix of order $n \\times n$ is a random matrix <br>\n",
    "> i. random weight in position $[1][j]$ such that, $adj_b[i][j] = 1$ <br>\n",
    "> ii. $\\sum Affinity[i] = 1$\n",
    "* $Adj_s$ is obtained after normalising $adj_n$ using STEN algorithm. \n",
    "> $Sdj_s = Affinity \\cdot $\n",
    "\n",
    "\n",
    "### Random Transformation flow chart \n",
    "follwing is the flowchart representing the random tranformatrion. <br>\n",
    "![flowchart](reliable_routing_flow_chart.svg)\n"
   ]
  },
  {
   "cell_type": "markdown",
   "metadata": {},
   "source": [
    "# Topology computation \n",
    "## sample topology\n",
    "the following is a sample topology for computing. \n",
    "![topology](initial_topo.svg)"
   ]
  },
  {
   "cell_type": "markdown",
   "metadata": {},
   "source": [
    "## Adjacency Matrix"
   ]
  },
  {
   "cell_type": "code",
   "execution_count": 2,
   "metadata": {},
   "outputs": [],
   "source": [
    "adj = [[0,1,1,0,0,1],\n",
    "       [1,0,0,0,0,1],\n",
    "       [1,0,0,1,1,0],\n",
    "       [0,0,1,0,1,1],\n",
    "       [0,0,1,1,0,0],\n",
    "       [1,1,0,1,0,0]]"
   ]
  },
  {
   "cell_type": "code",
   "execution_count": 2,
   "metadata": {},
   "outputs": [
    {
     "data": {
      "text/html": [
       "<div>\n",
       "<style scoped>\n",
       "    .dataframe tbody tr th:only-of-type {\n",
       "        vertical-align: middle;\n",
       "    }\n",
       "\n",
       "    .dataframe tbody tr th {\n",
       "        vertical-align: top;\n",
       "    }\n",
       "\n",
       "    .dataframe thead th {\n",
       "        text-align: right;\n",
       "    }\n",
       "</style>\n",
       "<table border=\"1\" class=\"dataframe\">\n",
       "  <thead>\n",
       "    <tr style=\"text-align: right;\">\n",
       "      <th></th>\n",
       "      <th>0</th>\n",
       "      <th>1</th>\n",
       "      <th>2</th>\n",
       "      <th>3</th>\n",
       "      <th>4</th>\n",
       "      <th>5</th>\n",
       "    </tr>\n",
       "  </thead>\n",
       "  <tbody>\n",
       "    <tr>\n",
       "      <th>0</th>\n",
       "      <td>0</td>\n",
       "      <td>1</td>\n",
       "      <td>1</td>\n",
       "      <td>0</td>\n",
       "      <td>0</td>\n",
       "      <td>1</td>\n",
       "    </tr>\n",
       "    <tr>\n",
       "      <th>1</th>\n",
       "      <td>1</td>\n",
       "      <td>0</td>\n",
       "      <td>0</td>\n",
       "      <td>0</td>\n",
       "      <td>0</td>\n",
       "      <td>1</td>\n",
       "    </tr>\n",
       "    <tr>\n",
       "      <th>2</th>\n",
       "      <td>1</td>\n",
       "      <td>0</td>\n",
       "      <td>0</td>\n",
       "      <td>1</td>\n",
       "      <td>1</td>\n",
       "      <td>0</td>\n",
       "    </tr>\n",
       "    <tr>\n",
       "      <th>3</th>\n",
       "      <td>0</td>\n",
       "      <td>0</td>\n",
       "      <td>1</td>\n",
       "      <td>0</td>\n",
       "      <td>1</td>\n",
       "      <td>1</td>\n",
       "    </tr>\n",
       "    <tr>\n",
       "      <th>4</th>\n",
       "      <td>0</td>\n",
       "      <td>0</td>\n",
       "      <td>1</td>\n",
       "      <td>1</td>\n",
       "      <td>0</td>\n",
       "      <td>0</td>\n",
       "    </tr>\n",
       "    <tr>\n",
       "      <th>5</th>\n",
       "      <td>1</td>\n",
       "      <td>1</td>\n",
       "      <td>0</td>\n",
       "      <td>1</td>\n",
       "      <td>0</td>\n",
       "      <td>0</td>\n",
       "    </tr>\n",
       "  </tbody>\n",
       "</table>\n",
       "</div>"
      ],
      "text/plain": [
       "   0  1  2  3  4  5\n",
       "0  0  1  1  0  0  1\n",
       "1  1  0  0  0  0  1\n",
       "2  1  0  0  1  1  0\n",
       "3  0  0  1  0  1  1\n",
       "4  0  0  1  1  0  0\n",
       "5  1  1  0  1  0  0"
      ]
     },
     "execution_count": 2,
     "metadata": {},
     "output_type": "execute_result"
    }
   ],
   "source": [
    "import pandas as pd\n",
    "pd.DataFrame(adj)"
   ]
  },
  {
   "cell_type": "code",
   "execution_count": 3,
   "metadata": {},
   "outputs": [
    {
     "name": "stdout",
     "output_type": "stream",
     "text": [
      "node_1 , node_2 : Added\n",
      "node_1 , node_3 : Added\n",
      "node_1 , node_6 : Added\n",
      "node_2 , node_1 : Added\n",
      "node_2 , node_6 : Added\n",
      "node_3 , node_1 : Added\n",
      "node_3 , node_4 : Added\n",
      "node_3 , node_5 : Added\n",
      "node_4 , node_3 : Added\n",
      "node_4 , node_5 : Added\n",
      "node_4 , node_6 : Added\n",
      "node_5 , node_3 : Added\n",
      "node_5 , node_4 : Added\n",
      "node_6 , node_1 : Added\n",
      "node_6 , node_2 : Added\n",
      "node_6 , node_4 : Added\n"
     ]
    },
    {
     "data": {
      "image/png": "[encoded data removed]",
      "text/plain": [
       "<matplotlib.figure.Figure at 0x19a0b37e2b0>"
      ]
     },
     "metadata": {},
     "output_type": "display_data"
    }
   ],
   "source": [
    "import networkx as nx\n",
    "import matplotlib.pyplot as plt\n",
    "%matplotlib inline\n",
    "\n",
    "topo=nx.MultiDiGraph()\n",
    "\n",
    "def create_topo(graph, adj_matrix):\n",
    "    for i in range(len(adj_matrix)):\n",
    "        for j in range(len(adj_matrix[i])):\n",
    "            if adj_matrix[i][j] != 0:\n",
    "                graph.add_edge('node_'+str(i+1),'node_'+str(j+1))\n",
    "                print(f'node_{i+1} , node_{j+1} : Added')\n",
    "    return graph\n",
    "\n",
    "topo=create_topo(graph=topo, adj_matrix=adj)\n",
    "nx.draw(topo, pos=nx.spring_layout(topo), with_labels=True)"
   ]
  },
  {
   "cell_type": "markdown",
   "metadata": {},
   "source": [
    "## Matrix Computation with SciPy"
   ]
  },
  {
   "cell_type": "code",
   "execution_count": 4,
   "metadata": {},
   "outputs": [],
   "source": [
    "import numpy as np\n",
    "import scipy as sp"
   ]
  },
  {
   "cell_type": "markdown",
   "metadata": {},
   "source": [
    "### Creating A numpy matrix from list structure"
   ]
  },
  {
   "cell_type": "code",
   "execution_count": 5,
   "metadata": {},
   "outputs": [
    {
     "name": "stdout",
     "output_type": "stream",
     "text": [
      "[[0 1 1 0 0 1]\n",
      " [1 0 0 0 0 1]\n",
      " [1 0 0 1 1 0]\n",
      " [0 0 1 0 1 1]\n",
      " [0 0 1 1 0 0]\n",
      " [1 1 0 1 0 0]]\n"
     ]
    }
   ],
   "source": [
    "adj_b=np.matrix(adj)\n",
    "print(adj_b)"
   ]
  },
  {
   "cell_type": "markdown",
   "metadata": {},
   "source": [
    "### Creating random matrix"
   ]
  },
  {
   "cell_type": "code",
   "execution_count": 6,
   "metadata": {},
   "outputs": [
    {
     "data": {
      "text/html": [
       "<div>\n",
       "<style scoped>\n",
       "    .dataframe tbody tr th:only-of-type {\n",
       "        vertical-align: middle;\n",
       "    }\n",
       "\n",
       "    .dataframe tbody tr th {\n",
       "        vertical-align: top;\n",
       "    }\n",
       "\n",
       "    .dataframe thead th {\n",
       "        text-align: right;\n",
       "    }\n",
       "</style>\n",
       "<table border=\"1\" class=\"dataframe\">\n",
       "  <thead>\n",
       "    <tr style=\"text-align: right;\">\n",
       "      <th></th>\n",
       "      <th>0</th>\n",
       "      <th>1</th>\n",
       "      <th>2</th>\n",
       "      <th>3</th>\n",
       "      <th>4</th>\n",
       "      <th>5</th>\n",
       "    </tr>\n",
       "  </thead>\n",
       "  <tbody>\n",
       "    <tr>\n",
       "      <th>0</th>\n",
       "      <td>0.350362</td>\n",
       "      <td>0.742650</td>\n",
       "      <td>0.769226</td>\n",
       "      <td>0.722617</td>\n",
       "      <td>0.773248</td>\n",
       "      <td>0.918736</td>\n",
       "    </tr>\n",
       "    <tr>\n",
       "      <th>1</th>\n",
       "      <td>0.075638</td>\n",
       "      <td>0.578255</td>\n",
       "      <td>0.232440</td>\n",
       "      <td>0.674181</td>\n",
       "      <td>0.374713</td>\n",
       "      <td>0.827053</td>\n",
       "    </tr>\n",
       "    <tr>\n",
       "      <th>2</th>\n",
       "      <td>0.340607</td>\n",
       "      <td>0.736113</td>\n",
       "      <td>0.497091</td>\n",
       "      <td>0.827689</td>\n",
       "      <td>0.823577</td>\n",
       "      <td>0.768820</td>\n",
       "    </tr>\n",
       "    <tr>\n",
       "      <th>3</th>\n",
       "      <td>0.786678</td>\n",
       "      <td>0.655444</td>\n",
       "      <td>0.673674</td>\n",
       "      <td>0.010984</td>\n",
       "      <td>0.509759</td>\n",
       "      <td>0.212857</td>\n",
       "    </tr>\n",
       "    <tr>\n",
       "      <th>4</th>\n",
       "      <td>0.816263</td>\n",
       "      <td>0.651846</td>\n",
       "      <td>0.250385</td>\n",
       "      <td>0.281269</td>\n",
       "      <td>0.388922</td>\n",
       "      <td>0.113623</td>\n",
       "    </tr>\n",
       "    <tr>\n",
       "      <th>5</th>\n",
       "      <td>0.601244</td>\n",
       "      <td>0.397514</td>\n",
       "      <td>0.528476</td>\n",
       "      <td>0.013932</td>\n",
       "      <td>0.192428</td>\n",
       "      <td>0.589850</td>\n",
       "    </tr>\n",
       "  </tbody>\n",
       "</table>\n",
       "</div>"
      ],
      "text/plain": [
       "          0         1         2         3         4         5\n",
       "0  0.350362  0.742650  0.769226  0.722617  0.773248  0.918736\n",
       "1  0.075638  0.578255  0.232440  0.674181  0.374713  0.827053\n",
       "2  0.340607  0.736113  0.497091  0.827689  0.823577  0.768820\n",
       "3  0.786678  0.655444  0.673674  0.010984  0.509759  0.212857\n",
       "4  0.816263  0.651846  0.250385  0.281269  0.388922  0.113623\n",
       "5  0.601244  0.397514  0.528476  0.013932  0.192428  0.589850"
      ]
     },
     "execution_count": 6,
     "metadata": {},
     "output_type": "execute_result"
    }
   ],
   "source": [
    "rand = np.random.rand(adj_b.shape[0], adj_b.shape[1])\n",
    "pd.DataFrame(rand)"
   ]
  },
  {
   "cell_type": "markdown",
   "metadata": {},
   "source": [
    "### Element wise multiplicartion $adj_e = rand \\cdot adj_b$"
   ]
  },
  {
   "cell_type": "code",
   "execution_count": 7,
   "metadata": {},
   "outputs": [
    {
     "data": {
      "text/html": [
       "<div>\n",
       "<style scoped>\n",
       "    .dataframe tbody tr th:only-of-type {\n",
       "        vertical-align: middle;\n",
       "    }\n",
       "\n",
       "    .dataframe tbody tr th {\n",
       "        vertical-align: top;\n",
       "    }\n",
       "\n",
       "    .dataframe thead th {\n",
       "        text-align: right;\n",
       "    }\n",
       "</style>\n",
       "<table border=\"1\" class=\"dataframe\">\n",
       "  <thead>\n",
       "    <tr style=\"text-align: right;\">\n",
       "      <th></th>\n",
       "      <th>0</th>\n",
       "      <th>1</th>\n",
       "      <th>2</th>\n",
       "      <th>3</th>\n",
       "      <th>4</th>\n",
       "      <th>5</th>\n",
       "    </tr>\n",
       "  </thead>\n",
       "  <tbody>\n",
       "    <tr>\n",
       "      <th>0</th>\n",
       "      <td>0.000000</td>\n",
       "      <td>0.742650</td>\n",
       "      <td>0.769226</td>\n",
       "      <td>0.000000</td>\n",
       "      <td>0.000000</td>\n",
       "      <td>0.918736</td>\n",
       "    </tr>\n",
       "    <tr>\n",
       "      <th>1</th>\n",
       "      <td>0.075638</td>\n",
       "      <td>0.000000</td>\n",
       "      <td>0.000000</td>\n",
       "      <td>0.000000</td>\n",
       "      <td>0.000000</td>\n",
       "      <td>0.827053</td>\n",
       "    </tr>\n",
       "    <tr>\n",
       "      <th>2</th>\n",
       "      <td>0.340607</td>\n",
       "      <td>0.000000</td>\n",
       "      <td>0.000000</td>\n",
       "      <td>0.827689</td>\n",
       "      <td>0.823577</td>\n",
       "      <td>0.000000</td>\n",
       "    </tr>\n",
       "    <tr>\n",
       "      <th>3</th>\n",
       "      <td>0.000000</td>\n",
       "      <td>0.000000</td>\n",
       "      <td>0.673674</td>\n",
       "      <td>0.000000</td>\n",
       "      <td>0.509759</td>\n",
       "      <td>0.212857</td>\n",
       "    </tr>\n",
       "    <tr>\n",
       "      <th>4</th>\n",
       "      <td>0.000000</td>\n",
       "      <td>0.000000</td>\n",
       "      <td>0.250385</td>\n",
       "      <td>0.281269</td>\n",
       "      <td>0.000000</td>\n",
       "      <td>0.000000</td>\n",
       "    </tr>\n",
       "    <tr>\n",
       "      <th>5</th>\n",
       "      <td>0.601244</td>\n",
       "      <td>0.397514</td>\n",
       "      <td>0.000000</td>\n",
       "      <td>0.013932</td>\n",
       "      <td>0.000000</td>\n",
       "      <td>0.000000</td>\n",
       "    </tr>\n",
       "  </tbody>\n",
       "</table>\n",
       "</div>"
      ],
      "text/plain": [
       "          0         1         2         3         4         5\n",
       "0  0.000000  0.742650  0.769226  0.000000  0.000000  0.918736\n",
       "1  0.075638  0.000000  0.000000  0.000000  0.000000  0.827053\n",
       "2  0.340607  0.000000  0.000000  0.827689  0.823577  0.000000\n",
       "3  0.000000  0.000000  0.673674  0.000000  0.509759  0.212857\n",
       "4  0.000000  0.000000  0.250385  0.281269  0.000000  0.000000\n",
       "5  0.601244  0.397514  0.000000  0.013932  0.000000  0.000000"
      ]
     },
     "execution_count": 7,
     "metadata": {},
     "output_type": "execute_result"
    }
   ],
   "source": [
    "adj_e = np.multiply(rand, adj_b)\n",
    "pd.DataFrame(adj_e)"
   ]
  },
  {
   "cell_type": "markdown",
   "metadata": {},
   "source": [
    "### Calulating $Adj_n = (rand \\cdot I) + Adj_e$"
   ]
  },
  {
   "cell_type": "code",
   "execution_count": 8,
   "metadata": {},
   "outputs": [
    {
     "data": {
      "text/html": [
       "<div>\n",
       "<style scoped>\n",
       "    .dataframe tbody tr th:only-of-type {\n",
       "        vertical-align: middle;\n",
       "    }\n",
       "\n",
       "    .dataframe tbody tr th {\n",
       "        vertical-align: top;\n",
       "    }\n",
       "\n",
       "    .dataframe thead th {\n",
       "        text-align: right;\n",
       "    }\n",
       "</style>\n",
       "<table border=\"1\" class=\"dataframe\">\n",
       "  <thead>\n",
       "    <tr style=\"text-align: right;\">\n",
       "      <th></th>\n",
       "      <th>0</th>\n",
       "      <th>1</th>\n",
       "      <th>2</th>\n",
       "      <th>3</th>\n",
       "      <th>4</th>\n",
       "      <th>5</th>\n",
       "    </tr>\n",
       "  </thead>\n",
       "  <tbody>\n",
       "    <tr>\n",
       "      <th>0</th>\n",
       "      <td>0.321271</td>\n",
       "      <td>0.000000</td>\n",
       "      <td>0.000000</td>\n",
       "      <td>0.000000</td>\n",
       "      <td>0.000000</td>\n",
       "      <td>0.000000</td>\n",
       "    </tr>\n",
       "    <tr>\n",
       "      <th>1</th>\n",
       "      <td>0.000000</td>\n",
       "      <td>0.095192</td>\n",
       "      <td>0.000000</td>\n",
       "      <td>0.000000</td>\n",
       "      <td>0.000000</td>\n",
       "      <td>0.000000</td>\n",
       "    </tr>\n",
       "    <tr>\n",
       "      <th>2</th>\n",
       "      <td>0.000000</td>\n",
       "      <td>0.000000</td>\n",
       "      <td>0.762525</td>\n",
       "      <td>0.000000</td>\n",
       "      <td>0.000000</td>\n",
       "      <td>0.000000</td>\n",
       "    </tr>\n",
       "    <tr>\n",
       "      <th>3</th>\n",
       "      <td>0.000000</td>\n",
       "      <td>0.000000</td>\n",
       "      <td>0.000000</td>\n",
       "      <td>0.335117</td>\n",
       "      <td>0.000000</td>\n",
       "      <td>0.000000</td>\n",
       "    </tr>\n",
       "    <tr>\n",
       "      <th>4</th>\n",
       "      <td>0.000000</td>\n",
       "      <td>0.000000</td>\n",
       "      <td>0.000000</td>\n",
       "      <td>0.000000</td>\n",
       "      <td>0.273999</td>\n",
       "      <td>0.000000</td>\n",
       "    </tr>\n",
       "    <tr>\n",
       "      <th>5</th>\n",
       "      <td>0.000000</td>\n",
       "      <td>0.000000</td>\n",
       "      <td>0.000000</td>\n",
       "      <td>0.000000</td>\n",
       "      <td>0.000000</td>\n",
       "      <td>0.419551</td>\n",
       "    </tr>\n",
       "  </tbody>\n",
       "</table>\n",
       "</div>"
      ],
      "text/plain": [
       "          0         1         2         3         4         5\n",
       "0  0.321271  0.000000  0.000000  0.000000  0.000000  0.000000\n",
       "1  0.000000  0.095192  0.000000  0.000000  0.000000  0.000000\n",
       "2  0.000000  0.000000  0.762525  0.000000  0.000000  0.000000\n",
       "3  0.000000  0.000000  0.000000  0.335117  0.000000  0.000000\n",
       "4  0.000000  0.000000  0.000000  0.000000  0.273999  0.000000\n",
       "5  0.000000  0.000000  0.000000  0.000000  0.000000  0.419551"
      ]
     },
     "execution_count": 8,
     "metadata": {},
     "output_type": "execute_result"
    }
   ],
   "source": [
    "x=np.multiply(np.random.rand(adj_b.shape[0],adj_b.shape[1]) , np.identity(adj_b.shape[0]))\n",
    "pd.DataFrame(x)"
   ]
  },
  {
   "cell_type": "code",
   "execution_count": 9,
   "metadata": {},
   "outputs": [
    {
     "data": {
      "text/html": [
       "<div>\n",
       "<style scoped>\n",
       "    .dataframe tbody tr th:only-of-type {\n",
       "        vertical-align: middle;\n",
       "    }\n",
       "\n",
       "    .dataframe tbody tr th {\n",
       "        vertical-align: top;\n",
       "    }\n",
       "\n",
       "    .dataframe thead th {\n",
       "        text-align: right;\n",
       "    }\n",
       "</style>\n",
       "<table border=\"1\" class=\"dataframe\">\n",
       "  <thead>\n",
       "    <tr style=\"text-align: right;\">\n",
       "      <th></th>\n",
       "      <th>0</th>\n",
       "      <th>1</th>\n",
       "      <th>2</th>\n",
       "      <th>3</th>\n",
       "      <th>4</th>\n",
       "      <th>5</th>\n",
       "    </tr>\n",
       "  </thead>\n",
       "  <tbody>\n",
       "    <tr>\n",
       "      <th>0</th>\n",
       "      <td>0.321271</td>\n",
       "      <td>0.742650</td>\n",
       "      <td>0.769226</td>\n",
       "      <td>0.000000</td>\n",
       "      <td>0.000000</td>\n",
       "      <td>0.918736</td>\n",
       "    </tr>\n",
       "    <tr>\n",
       "      <th>1</th>\n",
       "      <td>0.075638</td>\n",
       "      <td>0.095192</td>\n",
       "      <td>0.000000</td>\n",
       "      <td>0.000000</td>\n",
       "      <td>0.000000</td>\n",
       "      <td>0.827053</td>\n",
       "    </tr>\n",
       "    <tr>\n",
       "      <th>2</th>\n",
       "      <td>0.340607</td>\n",
       "      <td>0.000000</td>\n",
       "      <td>0.762525</td>\n",
       "      <td>0.827689</td>\n",
       "      <td>0.823577</td>\n",
       "      <td>0.000000</td>\n",
       "    </tr>\n",
       "    <tr>\n",
       "      <th>3</th>\n",
       "      <td>0.000000</td>\n",
       "      <td>0.000000</td>\n",
       "      <td>0.673674</td>\n",
       "      <td>0.335117</td>\n",
       "      <td>0.509759</td>\n",
       "      <td>0.212857</td>\n",
       "    </tr>\n",
       "    <tr>\n",
       "      <th>4</th>\n",
       "      <td>0.000000</td>\n",
       "      <td>0.000000</td>\n",
       "      <td>0.250385</td>\n",
       "      <td>0.281269</td>\n",
       "      <td>0.273999</td>\n",
       "      <td>0.000000</td>\n",
       "    </tr>\n",
       "    <tr>\n",
       "      <th>5</th>\n",
       "      <td>0.601244</td>\n",
       "      <td>0.397514</td>\n",
       "      <td>0.000000</td>\n",
       "      <td>0.013932</td>\n",
       "      <td>0.000000</td>\n",
       "      <td>0.419551</td>\n",
       "    </tr>\n",
       "  </tbody>\n",
       "</table>\n",
       "</div>"
      ],
      "text/plain": [
       "          0         1         2         3         4         5\n",
       "0  0.321271  0.742650  0.769226  0.000000  0.000000  0.918736\n",
       "1  0.075638  0.095192  0.000000  0.000000  0.000000  0.827053\n",
       "2  0.340607  0.000000  0.762525  0.827689  0.823577  0.000000\n",
       "3  0.000000  0.000000  0.673674  0.335117  0.509759  0.212857\n",
       "4  0.000000  0.000000  0.250385  0.281269  0.273999  0.000000\n",
       "5  0.601244  0.397514  0.000000  0.013932  0.000000  0.419551"
      ]
     },
     "execution_count": 9,
     "metadata": {},
     "output_type": "execute_result"
    }
   ],
   "source": [
    "adj_n = x + adj_e\n",
    "pd.DataFrame(adj_n)"
   ]
  },
  {
   "cell_type": "code",
   "execution_count": 22,
   "metadata": {},
   "outputs": [
    {
     "name": "stdout",
     "output_type": "stream",
     "text": [
      "g.add_edge('node_1' , 'node_1', weight=0.321)\n",
      "g.add_edge('node_1' , 'node_2', weight=0.743)\n",
      "g.add_edge('node_1' , 'node_3', weight=0.769)\n",
      "g.add_edge('node_1' , 'node_6', weight=0.919)\n",
      "g.add_edge('node_2' , 'node_1', weight=0.076)\n",
      "g.add_edge('node_2' , 'node_2', weight=0.095)\n",
      "g.add_edge('node_2' , 'node_6', weight=0.827)\n",
      "g.add_edge('node_3' , 'node_1', weight=0.341)\n",
      "g.add_edge('node_3' , 'node_3', weight=0.763)\n",
      "g.add_edge('node_3' , 'node_4', weight=0.828)\n",
      "g.add_edge('node_3' , 'node_5', weight=0.824)\n",
      "g.add_edge('node_4' , 'node_3', weight=0.674)\n",
      "g.add_edge('node_4' , 'node_4', weight=0.335)\n",
      "g.add_edge('node_4' , 'node_5', weight=0.51)\n",
      "g.add_edge('node_4' , 'node_6', weight=0.213)\n",
      "g.add_edge('node_5' , 'node_3', weight=0.25)\n",
      "g.add_edge('node_5' , 'node_4', weight=0.281)\n",
      "g.add_edge('node_5' , 'node_5', weight=0.274)\n",
      "g.add_edge('node_6' , 'node_1', weight=0.601)\n",
      "g.add_edge('node_6' , 'node_2', weight=0.398)\n",
      "g.add_edge('node_6' , 'node_4', weight=0.014)\n",
      "g.add_edge('node_6' , 'node_6', weight=0.42)\n"
     ]
    },
    {
     "data": {
      "image/png": "[encoded data removed]",
      "text/plain": [
       "<matplotlib.figure.Figure at 0x19a0d6a1cf8>"
      ]
     },
     "metadata": {},
     "output_type": "display_data"
    }
   ],
   "source": [
    "topo_weighted = nx.MultiDiGraph(selfloop=True)\n",
    "\n",
    "def create_topo_with_weight(g, weighted_matrix):\n",
    "    for i in range(len(weighted_matrix)):\n",
    "        for j in range(len(weighted_matrix)):\n",
    "            if weighted_matrix.item(i,j) != 0:\n",
    "                \n",
    "                val = round(weighted_matrix.item(i,j),3)\n",
    "                g.add_edge('node_'+str(i+1),\n",
    "                           'node_'+str(j+1),\n",
    "                           weight=val,\n",
    "                           lenghth=val)\n",
    "                \n",
    "                print(f\"g.add_edge('node_{i+1}' , 'node_{j+1}', weight={round(val,3)})\")\n",
    "    return g\n",
    "\n",
    "topo_weighted = create_topo_with_weight(topo_weighted, adj_n)\n",
    "\n",
    "nx.draw(topo_weighted, \n",
    "        pos=nx.spring_layout(topo_weighted), \n",
    "        with_labels=True)\n"
   ]
  },
  {
   "cell_type": "markdown",
   "metadata": {},
   "source": [
    "### Generating Affinity Matrix"
   ]
  },
  {
   "cell_type": "code",
   "execution_count": 11,
   "metadata": {},
   "outputs": [
    {
     "data": {
      "text/html": [
       "<div>\n",
       "<style scoped>\n",
       "    .dataframe tbody tr th:only-of-type {\n",
       "        vertical-align: middle;\n",
       "    }\n",
       "\n",
       "    .dataframe tbody tr th {\n",
       "        vertical-align: top;\n",
       "    }\n",
       "\n",
       "    .dataframe thead th {\n",
       "        text-align: right;\n",
       "    }\n",
       "</style>\n",
       "<table border=\"1\" class=\"dataframe\">\n",
       "  <thead>\n",
       "    <tr style=\"text-align: right;\">\n",
       "      <th></th>\n",
       "      <th>0</th>\n",
       "      <th>1</th>\n",
       "      <th>2</th>\n",
       "      <th>3</th>\n",
       "      <th>4</th>\n",
       "      <th>5</th>\n",
       "    </tr>\n",
       "  </thead>\n",
       "  <tbody>\n",
       "    <tr>\n",
       "      <th>0</th>\n",
       "      <td>[1, 2, 5]</td>\n",
       "      <td>[0, 5]</td>\n",
       "      <td>[0, 3, 4]</td>\n",
       "      <td>[2, 4, 5]</td>\n",
       "      <td>[2, 3]</td>\n",
       "      <td>[0, 1, 3]</td>\n",
       "    </tr>\n",
       "  </tbody>\n",
       "</table>\n",
       "</div>"
      ],
      "text/plain": [
       "           0       1          2          3       4          5\n",
       "0  [1, 2, 5]  [0, 5]  [0, 3, 4]  [2, 4, 5]  [2, 3]  [0, 1, 3]"
      ]
     },
     "execution_count": 11,
     "metadata": {},
     "output_type": "execute_result"
    }
   ],
   "source": [
    "# this fucntion takes a adj-b and return row-wise indexes of non-zero numbers\n",
    "\n",
    "def get_non_zero_index(adj):\n",
    "    ret=[]\n",
    "    for i in range(adj.shape[0]):\n",
    "        row=[]\n",
    "        for j in range(adj.shape[1]):\n",
    "            if adj.item(i,j)!=0:\n",
    "                row.append(j)\n",
    "        ret.append(row)\n",
    "    return np.matrix(ret)\n",
    "\n",
    "nz_indx_mat = get_non_zero_index(adj_b)\n",
    "pd.DataFrame(nz_indx_mat)"
   ]
  },
  {
   "cell_type": "code",
   "execution_count": 12,
   "metadata": {},
   "outputs": [
    {
     "data": {
      "text/html": [
       "<div>\n",
       "<style scoped>\n",
       "    .dataframe tbody tr th:only-of-type {\n",
       "        vertical-align: middle;\n",
       "    }\n",
       "\n",
       "    .dataframe tbody tr th {\n",
       "        vertical-align: top;\n",
       "    }\n",
       "\n",
       "    .dataframe thead th {\n",
       "        text-align: right;\n",
       "    }\n",
       "</style>\n",
       "<table border=\"1\" class=\"dataframe\">\n",
       "  <thead>\n",
       "    <tr style=\"text-align: right;\">\n",
       "      <th></th>\n",
       "      <th>0</th>\n",
       "      <th>1</th>\n",
       "      <th>2</th>\n",
       "    </tr>\n",
       "  </thead>\n",
       "  <tbody>\n",
       "    <tr>\n",
       "      <th>0</th>\n",
       "      <td>0.203</td>\n",
       "      <td>0.437</td>\n",
       "      <td>0.360</td>\n",
       "    </tr>\n",
       "    <tr>\n",
       "      <th>1</th>\n",
       "      <td>0.320</td>\n",
       "      <td>0.680</td>\n",
       "      <td>NaN</td>\n",
       "    </tr>\n",
       "    <tr>\n",
       "      <th>2</th>\n",
       "      <td>0.209</td>\n",
       "      <td>0.238</td>\n",
       "      <td>0.552</td>\n",
       "    </tr>\n",
       "    <tr>\n",
       "      <th>3</th>\n",
       "      <td>0.396</td>\n",
       "      <td>0.213</td>\n",
       "      <td>0.390</td>\n",
       "    </tr>\n",
       "    <tr>\n",
       "      <th>4</th>\n",
       "      <td>0.308</td>\n",
       "      <td>0.692</td>\n",
       "      <td>NaN</td>\n",
       "    </tr>\n",
       "    <tr>\n",
       "      <th>5</th>\n",
       "      <td>0.250</td>\n",
       "      <td>0.169</td>\n",
       "      <td>0.581</td>\n",
       "    </tr>\n",
       "  </tbody>\n",
       "</table>\n",
       "</div>"
      ],
      "text/plain": [
       "       0      1      2\n",
       "0  0.203  0.437  0.360\n",
       "1  0.320  0.680    NaN\n",
       "2  0.209  0.238  0.552\n",
       "3  0.396  0.213  0.390\n",
       "4  0.308  0.692    NaN\n",
       "5  0.250  0.169  0.581"
      ]
     },
     "execution_count": 12,
     "metadata": {},
     "output_type": "execute_result"
    }
   ],
   "source": [
    "# this fucntion distributes a random number in [0,1] range\n",
    "'''\n",
    "for each row, let there are n non zero elements \n",
    "    generate n random number between [0,100]\n",
    "    ith elemt of the row is i / sum(n numbers)\n",
    "    {i1 / (r1 + .. + rn)} + ... + {in /(r1 + ... + rn )} = 1 \n",
    "'''\n",
    "import random\n",
    "\n",
    "def distribute_rand_over_nz_row(mat):\n",
    "    ret = []\n",
    "    for row in range(mat.shape[1]):\n",
    "        temp=[]\n",
    "        for i in range(len(mat.item(row))):\n",
    "            temp.append(random.randint(0,100))\n",
    "        r_sum=sum(temp)\n",
    "        for i in range(len(temp)):\n",
    "            temp[i] = round((temp[i] / r_sum), 3)\n",
    "        ret.append(temp)\n",
    "    return ret\n",
    "\n",
    "nz_rand_mat = distribute_rand_over_nz_row( get_non_zero_index(adj_b))\n",
    "pd.DataFrame(nz_rand_mat)            "
   ]
  },
  {
   "cell_type": "code",
   "execution_count": 13,
   "metadata": {},
   "outputs": [
    {
     "data": {
      "text/html": [
       "<div>\n",
       "<style scoped>\n",
       "    .dataframe tbody tr th:only-of-type {\n",
       "        vertical-align: middle;\n",
       "    }\n",
       "\n",
       "    .dataframe tbody tr th {\n",
       "        vertical-align: top;\n",
       "    }\n",
       "\n",
       "    .dataframe thead th {\n",
       "        text-align: right;\n",
       "    }\n",
       "</style>\n",
       "<table border=\"1\" class=\"dataframe\">\n",
       "  <thead>\n",
       "    <tr style=\"text-align: right;\">\n",
       "      <th></th>\n",
       "      <th>0</th>\n",
       "      <th>1</th>\n",
       "      <th>2</th>\n",
       "      <th>3</th>\n",
       "      <th>4</th>\n",
       "      <th>5</th>\n",
       "    </tr>\n",
       "  </thead>\n",
       "  <tbody>\n",
       "    <tr>\n",
       "      <th>0</th>\n",
       "      <td>-0.321271</td>\n",
       "      <td>0.065218</td>\n",
       "      <td>0.140395</td>\n",
       "      <td>0.000000</td>\n",
       "      <td>0.000000</td>\n",
       "      <td>0.115657</td>\n",
       "    </tr>\n",
       "    <tr>\n",
       "      <th>1</th>\n",
       "      <td>0.030461</td>\n",
       "      <td>-0.095192</td>\n",
       "      <td>0.000000</td>\n",
       "      <td>0.000000</td>\n",
       "      <td>0.000000</td>\n",
       "      <td>0.064731</td>\n",
       "    </tr>\n",
       "    <tr>\n",
       "      <th>2</th>\n",
       "      <td>0.159368</td>\n",
       "      <td>0.000000</td>\n",
       "      <td>-0.762525</td>\n",
       "      <td>0.181481</td>\n",
       "      <td>0.420914</td>\n",
       "      <td>0.000000</td>\n",
       "    </tr>\n",
       "    <tr>\n",
       "      <th>3</th>\n",
       "      <td>0.000000</td>\n",
       "      <td>0.000000</td>\n",
       "      <td>0.132706</td>\n",
       "      <td>-0.335117</td>\n",
       "      <td>0.071380</td>\n",
       "      <td>0.130696</td>\n",
       "    </tr>\n",
       "    <tr>\n",
       "      <th>4</th>\n",
       "      <td>0.000000</td>\n",
       "      <td>0.000000</td>\n",
       "      <td>0.084392</td>\n",
       "      <td>0.189607</td>\n",
       "      <td>-0.273999</td>\n",
       "      <td>0.000000</td>\n",
       "    </tr>\n",
       "    <tr>\n",
       "      <th>5</th>\n",
       "      <td>0.104888</td>\n",
       "      <td>0.070904</td>\n",
       "      <td>0.000000</td>\n",
       "      <td>0.243759</td>\n",
       "      <td>0.000000</td>\n",
       "      <td>-0.419551</td>\n",
       "    </tr>\n",
       "  </tbody>\n",
       "</table>\n",
       "</div>"
      ],
      "text/plain": [
       "          0         1         2         3         4         5\n",
       "0 -0.321271  0.065218  0.140395  0.000000  0.000000  0.115657\n",
       "1  0.030461 -0.095192  0.000000  0.000000  0.000000  0.064731\n",
       "2  0.159368  0.000000 -0.762525  0.181481  0.420914  0.000000\n",
       "3  0.000000  0.000000  0.132706 -0.335117  0.071380  0.130696\n",
       "4  0.000000  0.000000  0.084392  0.189607 -0.273999  0.000000\n",
       "5  0.104888  0.070904  0.000000  0.243759  0.000000 -0.419551"
      ]
     },
     "execution_count": 13,
     "metadata": {},
     "output_type": "execute_result"
    }
   ],
   "source": [
    "def generate_affinity(nz_indx_mat , nz_rand_mat, adj_n):\n",
    "    ret=[]\n",
    "    for i in range(adj_n.shape[0]): \n",
    "        n_util = adj_n.item(i,i)\n",
    "        row=[]\n",
    "        k=0\n",
    "        for j in range(adj_n.shape[1]):\n",
    "            if j in nz_indx_mat.item(i):\n",
    "                offset = nz_rand_mat[i][k] * n_util\n",
    "                row.append(offset)\n",
    "                k+=1\n",
    "            else:\n",
    "                row.append(0)\n",
    "        row[i]=-n_util\n",
    "        ret.append(row)\n",
    "    return ret\n",
    "\n",
    "affifity_mat=generate_affinity(nz_indx_mat, nz_rand_mat, adj_n)\n",
    "pd.DataFrame(affifity_mat)"
   ]
  },
  {
   "cell_type": "markdown",
   "metadata": {},
   "source": [
    "### STEN (Stochastic Temporal Edge Normalization)\n",
    "$Adj_s = Affinity + Adj_n$"
   ]
  },
  {
   "cell_type": "code",
   "execution_count": 14,
   "metadata": {},
   "outputs": [
    {
     "data": {
      "text/html": [
       "<div>\n",
       "<style scoped>\n",
       "    .dataframe tbody tr th:only-of-type {\n",
       "        vertical-align: middle;\n",
       "    }\n",
       "\n",
       "    .dataframe tbody tr th {\n",
       "        vertical-align: top;\n",
       "    }\n",
       "\n",
       "    .dataframe thead th {\n",
       "        text-align: right;\n",
       "    }\n",
       "</style>\n",
       "<table border=\"1\" class=\"dataframe\">\n",
       "  <thead>\n",
       "    <tr style=\"text-align: right;\">\n",
       "      <th></th>\n",
       "      <th>0</th>\n",
       "      <th>1</th>\n",
       "      <th>2</th>\n",
       "      <th>3</th>\n",
       "      <th>4</th>\n",
       "      <th>5</th>\n",
       "    </tr>\n",
       "  </thead>\n",
       "  <tbody>\n",
       "    <tr>\n",
       "      <th>0</th>\n",
       "      <td>0.000000</td>\n",
       "      <td>0.807868</td>\n",
       "      <td>0.909621</td>\n",
       "      <td>0.000000</td>\n",
       "      <td>0.000000</td>\n",
       "      <td>1.034393</td>\n",
       "    </tr>\n",
       "    <tr>\n",
       "      <th>1</th>\n",
       "      <td>0.106099</td>\n",
       "      <td>0.000000</td>\n",
       "      <td>0.000000</td>\n",
       "      <td>0.000000</td>\n",
       "      <td>0.000000</td>\n",
       "      <td>0.891784</td>\n",
       "    </tr>\n",
       "    <tr>\n",
       "      <th>2</th>\n",
       "      <td>0.499975</td>\n",
       "      <td>0.000000</td>\n",
       "      <td>0.000000</td>\n",
       "      <td>1.009170</td>\n",
       "      <td>1.244491</td>\n",
       "      <td>0.000000</td>\n",
       "    </tr>\n",
       "    <tr>\n",
       "      <th>3</th>\n",
       "      <td>0.000000</td>\n",
       "      <td>0.000000</td>\n",
       "      <td>0.806380</td>\n",
       "      <td>0.000000</td>\n",
       "      <td>0.581139</td>\n",
       "      <td>0.343552</td>\n",
       "    </tr>\n",
       "    <tr>\n",
       "      <th>4</th>\n",
       "      <td>0.000000</td>\n",
       "      <td>0.000000</td>\n",
       "      <td>0.334776</td>\n",
       "      <td>0.470876</td>\n",
       "      <td>0.000000</td>\n",
       "      <td>0.000000</td>\n",
       "    </tr>\n",
       "    <tr>\n",
       "      <th>5</th>\n",
       "      <td>0.706132</td>\n",
       "      <td>0.468418</td>\n",
       "      <td>0.000000</td>\n",
       "      <td>0.257691</td>\n",
       "      <td>0.000000</td>\n",
       "      <td>0.000000</td>\n",
       "    </tr>\n",
       "  </tbody>\n",
       "</table>\n",
       "</div>"
      ],
      "text/plain": [
       "          0         1         2         3         4         5\n",
       "0  0.000000  0.807868  0.909621  0.000000  0.000000  1.034393\n",
       "1  0.106099  0.000000  0.000000  0.000000  0.000000  0.891784\n",
       "2  0.499975  0.000000  0.000000  1.009170  1.244491  0.000000\n",
       "3  0.000000  0.000000  0.806380  0.000000  0.581139  0.343552\n",
       "4  0.000000  0.000000  0.334776  0.470876  0.000000  0.000000\n",
       "5  0.706132  0.468418  0.000000  0.257691  0.000000  0.000000"
      ]
     },
     "execution_count": 14,
     "metadata": {},
     "output_type": "execute_result"
    }
   ],
   "source": [
    "adj_s = affifity_mat + adj_n\n",
    "pd.DataFrame(adj_s)"
   ]
  },
  {
   "cell_type": "code",
   "execution_count": 15,
   "metadata": {},
   "outputs": [
    {
     "name": "stdout",
     "output_type": "stream",
     "text": [
      "g.add_edge('node_1' , 'node_2', weight=0.808)\n",
      "g.add_edge('node_1' , 'node_3', weight=0.91)\n",
      "g.add_edge('node_1' , 'node_6', weight=1.034)\n",
      "g.add_edge('node_2' , 'node_1', weight=0.106)\n",
      "g.add_edge('node_2' , 'node_6', weight=0.892)\n",
      "g.add_edge('node_3' , 'node_1', weight=0.5)\n",
      "g.add_edge('node_3' , 'node_4', weight=1.009)\n",
      "g.add_edge('node_3' , 'node_5', weight=1.244)\n",
      "g.add_edge('node_4' , 'node_3', weight=0.806)\n",
      "g.add_edge('node_4' , 'node_5', weight=0.581)\n",
      "g.add_edge('node_4' , 'node_6', weight=0.344)\n",
      "g.add_edge('node_5' , 'node_3', weight=0.335)\n",
      "g.add_edge('node_5' , 'node_4', weight=0.471)\n",
      "g.add_edge('node_6' , 'node_1', weight=0.706)\n",
      "g.add_edge('node_6' , 'node_2', weight=0.468)\n",
      "g.add_edge('node_6' , 'node_4', weight=0.258)\n"
     ]
    },
    {
     "data": {
      "image/png": "[encoded data removed]",
      "text/plain": [
       "<matplotlib.figure.Figure at 0x19a0b384198>"
      ]
     },
     "metadata": {},
     "output_type": "display_data"
    }
   ],
   "source": [
    "topo_s = nx.MultiDiGraph()\n",
    "topo_s = create_topo_with_weight(topo_s, adj_s)\n",
    "nx.draw(topo_s, pos=nx.spectral_layout(topo_s), with_labels=True)"
   ]
  },
  {
   "cell_type": "markdown",
   "metadata": {},
   "source": [
    "## Shortest Path Algorithm : Dijkstra's Algo"
   ]
  },
  {
   "cell_type": "code",
   "execution_count": 16,
   "metadata": {},
   "outputs": [],
   "source": [
    "def show_shortest_path(graph, src, dst):\n",
    "    path = nx.shortest_path(G=graph, source=src, target=dst)\n",
    "    route = nx.Graph()\n",
    "    for i in range(len(path) -1):\n",
    "        route.add_edge(path[i],path[i+1])\n",
    "    \n",
    "    return nx.draw(route,pos=nx.spring_layout(route), with_labels=True)"
   ]
  },
  {
   "cell_type": "code",
   "execution_count": 17,
   "metadata": {},
   "outputs": [
    {
     "data": {
      "image/png": "[encoded data removed]",
      "text/plain": [
       "<matplotlib.figure.Figure at 0x19a0da49240>"
      ]
     },
     "metadata": {},
     "output_type": "display_data"
    }
   ],
   "source": [
    "show_shortest_path(topo_s,'node_1','node_2')"
   ]
  },
  {
   "cell_type": "code",
   "execution_count": 18,
   "metadata": {},
   "outputs": [
    {
     "data": {
      "image/png": "[encoded data removed]",
      "text/plain": [
       "<matplotlib.figure.Figure at 0x19a0dab6048>"
      ]
     },
     "metadata": {},
     "output_type": "display_data"
    }
   ],
   "source": [
    "show_shortest_path(topo_s,'node_1','node_3')"
   ]
  },
  {
   "cell_type": "code",
   "execution_count": 19,
   "metadata": {},
   "outputs": [
    {
     "data": {
      "image/png": "[encoded data removed]",
      "text/plain": [
       "<matplotlib.figure.Figure at 0x19a0dae3470>"
      ]
     },
     "metadata": {},
     "output_type": "display_data"
    }
   ],
   "source": [
    "show_shortest_path(topo_s,'node_1','node_4')"
   ]
  },
  {
   "cell_type": "markdown",
   "metadata": {},
   "source": [
    "# Temporal Reliability "
   ]
  },
  {
   "cell_type": "markdown",
   "metadata": {},
   "source": [
    "## Terminologies"
   ]
  },
  {
   "cell_type": "markdown",
   "metadata": {},
   "source": [
    "* $buffer_t$ is the temporal bounded buffer of a constant size $k$ <br>\n",
    "> this stores varying weights of edges after __STEN__ normalization sampled by time <br>\n",
    "* __quality__ function $Q(.)=w_\\mu \\mu + w_\\sigma \\sigma$ is the quality function over $buffer_t$ <br>\n",
    "> $\\mu$ is the Median and <br>\n",
    "> $\\sigma$ is the standard deviation <br>\n",
    "* __Reliability__ function $R(.)=Z(Q(.))$ gives the ranking factors and must be normalised, hence $R(.)\\in[0,1]$ <br>\n",
    "> $Z(.)$ is the Z-trasforation over $Q(.)$ to scale"
   ]
  },
  {
   "cell_type": "markdown",
   "metadata": {},
   "source": [
    "## Generating a random sample space of given nodes and buffer size"
   ]
  },
  {
   "cell_type": "code",
   "execution_count": 20,
   "metadata": {},
   "outputs": [
    {
     "data": {
      "text/html": [
       "<div>\n",
       "<style scoped>\n",
       "    .dataframe tbody tr th:only-of-type {\n",
       "        vertical-align: middle;\n",
       "    }\n",
       "\n",
       "    .dataframe tbody tr th {\n",
       "        vertical-align: top;\n",
       "    }\n",
       "\n",
       "    .dataframe thead th {\n",
       "        text-align: right;\n",
       "    }\n",
       "</style>\n",
       "<table border=\"1\" class=\"dataframe\">\n",
       "  <thead>\n",
       "    <tr style=\"text-align: right;\">\n",
       "      <th></th>\n",
       "      <th>0</th>\n",
       "      <th>1</th>\n",
       "      <th>2</th>\n",
       "      <th>3</th>\n",
       "      <th>4</th>\n",
       "      <th>5</th>\n",
       "      <th>6</th>\n",
       "      <th>7</th>\n",
       "      <th>8</th>\n",
       "      <th>9</th>\n",
       "      <th>...</th>\n",
       "      <th>140</th>\n",
       "      <th>141</th>\n",
       "      <th>142</th>\n",
       "      <th>143</th>\n",
       "      <th>144</th>\n",
       "      <th>145</th>\n",
       "      <th>146</th>\n",
       "      <th>147</th>\n",
       "      <th>148</th>\n",
       "      <th>149</th>\n",
       "    </tr>\n",
       "  </thead>\n",
       "  <tbody>\n",
       "    <tr>\n",
       "      <th>0</th>\n",
       "      <td>0.200159</td>\n",
       "      <td>0.324982</td>\n",
       "      <td>0.004925</td>\n",
       "      <td>0.711542</td>\n",
       "      <td>0.003051</td>\n",
       "      <td>19.748507</td>\n",
       "      <td>0.144722</td>\n",
       "      <td>3.567514</td>\n",
       "      <td>1.707426</td>\n",
       "      <td>0.047932</td>\n",
       "      <td>...</td>\n",
       "      <td>0.014015</td>\n",
       "      <td>7.439730</td>\n",
       "      <td>1.374820</td>\n",
       "      <td>7.734268</td>\n",
       "      <td>0.000012</td>\n",
       "      <td>19.077057</td>\n",
       "      <td>0.119882</td>\n",
       "      <td>0.490593</td>\n",
       "      <td>3.807174e-08</td>\n",
       "      <td>0.000134</td>\n",
       "    </tr>\n",
       "    <tr>\n",
       "      <th>1</th>\n",
       "      <td>1.144488</td>\n",
       "      <td>0.736520</td>\n",
       "      <td>0.080189</td>\n",
       "      <td>1.286557</td>\n",
       "      <td>1.984345</td>\n",
       "      <td>11.833506</td>\n",
       "      <td>0.074303</td>\n",
       "      <td>0.270642</td>\n",
       "      <td>0.942037</td>\n",
       "      <td>0.000069</td>\n",
       "      <td>...</td>\n",
       "      <td>0.001625</td>\n",
       "      <td>0.027787</td>\n",
       "      <td>0.000418</td>\n",
       "      <td>3.956765</td>\n",
       "      <td>3.947280</td>\n",
       "      <td>2.683963</td>\n",
       "      <td>5.937108</td>\n",
       "      <td>0.000769</td>\n",
       "      <td>3.998849e-01</td>\n",
       "      <td>0.045948</td>\n",
       "    </tr>\n",
       "    <tr>\n",
       "      <th>2</th>\n",
       "      <td>0.489994</td>\n",
       "      <td>1.031843</td>\n",
       "      <td>4.105517</td>\n",
       "      <td>2.331315</td>\n",
       "      <td>0.094370</td>\n",
       "      <td>0.000015</td>\n",
       "      <td>0.011822</td>\n",
       "      <td>0.546999</td>\n",
       "      <td>6.238759</td>\n",
       "      <td>5.313471</td>\n",
       "      <td>...</td>\n",
       "      <td>2.733042</td>\n",
       "      <td>3.315922</td>\n",
       "      <td>0.004339</td>\n",
       "      <td>0.001111</td>\n",
       "      <td>10.546094</td>\n",
       "      <td>0.064470</td>\n",
       "      <td>0.078654</td>\n",
       "      <td>0.464612</td>\n",
       "      <td>3.139942e-03</td>\n",
       "      <td>0.085707</td>\n",
       "    </tr>\n",
       "    <tr>\n",
       "      <th>3</th>\n",
       "      <td>9.553671</td>\n",
       "      <td>0.075903</td>\n",
       "      <td>0.665780</td>\n",
       "      <td>0.009735</td>\n",
       "      <td>0.069848</td>\n",
       "      <td>43.416209</td>\n",
       "      <td>0.120351</td>\n",
       "      <td>0.013573</td>\n",
       "      <td>1.219812</td>\n",
       "      <td>7.196966</td>\n",
       "      <td>...</td>\n",
       "      <td>1.443914</td>\n",
       "      <td>0.010108</td>\n",
       "      <td>0.000875</td>\n",
       "      <td>0.334004</td>\n",
       "      <td>0.042301</td>\n",
       "      <td>7.960813</td>\n",
       "      <td>0.000022</td>\n",
       "      <td>0.035194</td>\n",
       "      <td>2.005051e-02</td>\n",
       "      <td>0.034911</td>\n",
       "    </tr>\n",
       "    <tr>\n",
       "      <th>4</th>\n",
       "      <td>0.589359</td>\n",
       "      <td>0.065492</td>\n",
       "      <td>0.000084</td>\n",
       "      <td>10.693560</td>\n",
       "      <td>1.056593</td>\n",
       "      <td>0.033923</td>\n",
       "      <td>0.066046</td>\n",
       "      <td>0.015297</td>\n",
       "      <td>2.774452</td>\n",
       "      <td>0.063352</td>\n",
       "      <td>...</td>\n",
       "      <td>0.000001</td>\n",
       "      <td>0.737906</td>\n",
       "      <td>0.322680</td>\n",
       "      <td>0.000249</td>\n",
       "      <td>0.064930</td>\n",
       "      <td>0.022944</td>\n",
       "      <td>7.836428</td>\n",
       "      <td>7.503084</td>\n",
       "      <td>3.306698e-02</td>\n",
       "      <td>0.428466</td>\n",
       "    </tr>\n",
       "    <tr>\n",
       "      <th>5</th>\n",
       "      <td>0.111047</td>\n",
       "      <td>0.003816</td>\n",
       "      <td>1.875845</td>\n",
       "      <td>0.000439</td>\n",
       "      <td>1.186409</td>\n",
       "      <td>0.066911</td>\n",
       "      <td>0.057823</td>\n",
       "      <td>0.986700</td>\n",
       "      <td>0.458999</td>\n",
       "      <td>0.047992</td>\n",
       "      <td>...</td>\n",
       "      <td>0.207397</td>\n",
       "      <td>25.454606</td>\n",
       "      <td>0.059186</td>\n",
       "      <td>19.733624</td>\n",
       "      <td>0.006706</td>\n",
       "      <td>0.094396</td>\n",
       "      <td>0.025371</td>\n",
       "      <td>0.000814</td>\n",
       "      <td>8.622589e-03</td>\n",
       "      <td>0.737972</td>\n",
       "    </tr>\n",
       "  </tbody>\n",
       "</table>\n",
       "<p>6 rows × 150 columns</p>\n",
       "</div>"
      ],
      "text/plain": [
       "        0         1         2          3         4          5         6    \\\n",
       "0  0.200159  0.324982  0.004925   0.711542  0.003051  19.748507  0.144722   \n",
       "1  1.144488  0.736520  0.080189   1.286557  1.984345  11.833506  0.074303   \n",
       "2  0.489994  1.031843  4.105517   2.331315  0.094370   0.000015  0.011822   \n",
       "3  9.553671  0.075903  0.665780   0.009735  0.069848  43.416209  0.120351   \n",
       "4  0.589359  0.065492  0.000084  10.693560  1.056593   0.033923  0.066046   \n",
       "5  0.111047  0.003816  1.875845   0.000439  1.186409   0.066911  0.057823   \n",
       "\n",
       "        7         8         9      ...          140        141       142  \\\n",
       "0  3.567514  1.707426  0.047932    ...     0.014015   7.439730  1.374820   \n",
       "1  0.270642  0.942037  0.000069    ...     0.001625   0.027787  0.000418   \n",
       "2  0.546999  6.238759  5.313471    ...     2.733042   3.315922  0.004339   \n",
       "3  0.013573  1.219812  7.196966    ...     1.443914   0.010108  0.000875   \n",
       "4  0.015297  2.774452  0.063352    ...     0.000001   0.737906  0.322680   \n",
       "5  0.986700  0.458999  0.047992    ...     0.207397  25.454606  0.059186   \n",
       "\n",
       "         143        144        145       146       147           148       149  \n",
       "0   7.734268   0.000012  19.077057  0.119882  0.490593  3.807174e-08  0.000134  \n",
       "1   3.956765   3.947280   2.683963  5.937108  0.000769  3.998849e-01  0.045948  \n",
       "2   0.001111  10.546094   0.064470  0.078654  0.464612  3.139942e-03  0.085707  \n",
       "3   0.334004   0.042301   7.960813  0.000022  0.035194  2.005051e-02  0.034911  \n",
       "4   0.000249   0.064930   0.022944  7.836428  7.503084  3.306698e-02  0.428466  \n",
       "5  19.733624   0.006706   0.094396  0.025371  0.000814  8.622589e-03  0.737972  \n",
       "\n",
       "[6 rows x 150 columns]"
      ]
     },
     "execution_count": 20,
     "metadata": {},
     "output_type": "execute_result"
    }
   ],
   "source": [
    "def generate_random_samples(node_count, buffer_size):\n",
    "    ret=[]\n",
    "    for node_history in range(node_count):\n",
    "        col=[]\n",
    "        for sample in range(buffer_size):\n",
    "            x=np.random.randn()#0,100)/100\n",
    "            y=np.random.randn()#0,100)/100\n",
    "            z=np.random.randn()#0,100)/100\n",
    "            # for more randomness (x+y)*z\n",
    "            col.append(((x+y)*z)**2)\n",
    "        ret.append(col)\n",
    "    return ret\n",
    "\n",
    "rand_sample=generate_random_samples(len(topo_s.nodes), 150)\n",
    "pd.DataFrame(rand_sample)"
   ]
  },
  {
   "cell_type": "code",
   "execution_count": 21,
   "metadata": {},
   "outputs": [
    {
     "ename": "SyntaxError",
     "evalue": "invalid syntax (<ipython-input-21-def20062f52d>, line 1)",
     "traceback": [
      "\u001b[1;36m  File \u001b[1;32m\"<ipython-input-21-def20062f52d>\"\u001b[1;36m, line \u001b[1;32m1\u001b[0m\n\u001b[1;33m    def collect_samples(adj_s sample_size):\u001b[0m\n\u001b[1;37m                                        ^\u001b[0m\n\u001b[1;31mSyntaxError\u001b[0m\u001b[1;31m:\u001b[0m invalid syntax\n"
     ],
     "output_type": "error"
    }
   ],
   "source": [
    "def collect_samples(adj_s sample_size):\n",
    "    adj_samples=[]\n",
    "    adj_sample_space=[]\n",
    "    edge_index\n",
    "    \n",
    "    for i in adj_s.shape()[0]:\n",
    "        for j in adj_s.shape()[1]:\n",
    "            \n",
    "    \n",
    "    "
   ]
  },
  {
   "cell_type": "code",
   "execution_count": 23,
   "metadata": {},
   "outputs": [
    {
     "name": "stdout",
     "output_type": "stream",
     "text": [
      "[0.22693276236140464, 0.319732316463381, 0.24011701895923987, 0.2858707275003839, 0.31803742884563707, 0.2962496792068554]\n",
      "[5.32622775167135, 11.634288660063895, 4.0363742411533154, 6.562648608516241, 3.421711129596647, 8.572022203292102]\n"
     ]
    },
    {
     "data": {
      "image/png": "[encoded data removed]",
      "text/plain": [
       "<matplotlib.figure.Figure at 0x19a0db748d0>"
      ]
     },
     "metadata": {},
     "output_type": "display_data"
    }
   ],
   "source": [
    "def get_median_sd(sampled_matrix):\n",
    "    import statistics as stat\n",
    "    median=[]\n",
    "    sd=[]\n",
    "    for node_history in sampled_matrix:\n",
    "        median.append(stat.median(node_history))\n",
    "        sd.append(stat.stdev(node_history))\n",
    "    return(median,sd)\n",
    "\n",
    "sample_median, sample_sd = get_median_sd(rand_sample)\n",
    "\n",
    "print(sample_median)\n",
    "print(sample_sd)\n",
    "\n",
    "plt.bar(topo_s.nodes,sample_sd, label='SD',alpha=0.6)\n",
    "plt.bar(topo_s.nodes,sample_median, label='median', alpha=1)\n",
    "plt.legend()\n",
    "plt.tight_layout()\n",
    "plt.show()"
   ]
  },
  {
   "cell_type": "markdown",
   "metadata": {},
   "source": [
    "### Quality Caculation\n",
    "$Q(X) = w_\\mu\\mu(X) + w_\\sigma\\sigma(X)$"
   ]
  },
  {
   "cell_type": "code",
   "execution_count": 24,
   "metadata": {},
   "outputs": [
    {
     "name": "stdout",
     "output_type": "stream",
     "text": [
      "[4.306368753809362, 9.371377391343794, 3.2771227967145005, 5.30729303231307, 2.8009763894464452, 6.916867698475053]\n"
     ]
    },
    {
     "data": {
      "image/png": "[encoded data removed]",
      "text/plain": [
       "<matplotlib.figure.Figure at 0x19a0dc21828>"
      ]
     },
     "metadata": {},
     "output_type": "display_data"
    }
   ],
   "source": [
    "def get_Quality(s_median, s_sd, w1=0.5, w2=0.5):\n",
    "    q=[]\n",
    "    for i in range(len(s_median)):\n",
    "        q.append(w1*s_median[i] + w2*s_sd[i])\n",
    "    return q\n",
    "\n",
    "q_vector = get_Quality(sample_median, sample_sd, w1=0.2, w2=0.8)\n",
    "print(q_vector)\n",
    "\n",
    "plt.bar(topo_s.nodes,q_vector, label='Quality', alpha=1)\n",
    "plt.legend()\n",
    "plt.tight_layout()\n",
    "plt.show()\n",
    "        "
   ]
  },
  {
   "cell_type": "markdown",
   "metadata": {},
   "source": [
    "### Reliability Calculation\n",
    "$R = Z(Q(X))$"
   ]
  },
  {
   "cell_type": "code",
   "execution_count": 26,
   "metadata": {},
   "outputs": [
    {
     "name": "stdout",
     "output_type": "stream",
     "text": [
      "[0.7708827263468088, 0.0, 0.9275316061941186, 0.6185443411836096, 1.0, 0.3735707595563721]\n"
     ]
    },
    {
     "data": {
      "image/png": "[encoded data removed]",
      "text/plain": [
       "<matplotlib.figure.Figure at 0x19a0da3de10>"
      ]
     },
     "metadata": {},
     "output_type": "display_data"
    }
   ],
   "source": [
    "def get_Reliability(quality_vct):\n",
    "    R=[]\n",
    "    for q in quality_vct:\n",
    "        R.append(1- ((q-min(quality_vct))/(max(quality_vct)-min(quality_vct))))\n",
    "    return R\n",
    "\n",
    "r_vector = get_Reliability(q_vector)\n",
    "print(r_vector)\n",
    "\n",
    "plt.bar(topo_s.nodes,r_vector, label='Reliability', alpha=1)\n",
    "plt.legend()\n",
    "plt.tight_layout()\n",
    "plt.show()"
   ]
  },
  {
   "cell_type": "code",
   "execution_count": 70,
   "metadata": {},
   "outputs": [
    {
     "name": "stdout",
     "output_type": "stream",
     "text": [
      "[[ 12  51  71  97  21  68  47  80  16  36]\n",
      " [100  11  82  50  20  65  55  70  82  27]\n",
      " [ 17  47  72  51  67   9  16  32  37  71]\n",
      " [ 91  21  56  23  48  75  41  10  32  50]]\n"
     ]
    }
   ],
   "source": [
    "import numpy as np\n",
    "import random\n",
    "res=[]\n",
    "\n",
    "for i in range(10):\n",
    "    r_vect=[]\n",
    "    for j in range(4):\n",
    "        r_vect.append(random.randint(0,100))\n",
    "    res.append(r_vect)\n",
    "    #print(f'{res} \\n-----------------------------')\n",
    "res = np.transpose(np.matrix(res))\n",
    "print(res)\n"
   ]
  },
  {
   "cell_type": "code",
   "execution_count": 58,
   "metadata": {},
   "outputs": [
    {
     "data": {
      "text/plain": [
       "array([[1, 2],\n",
       "       [2, 3],\n",
       "       [3, 4],\n",
       "       [4, 5]])"
      ]
     },
     "execution_count": 58,
     "metadata": {},
     "output_type": "execute_result"
    }
   ],
   "source": [
    "x=[]\n",
    "a=[1,2,3,4]\n",
    "b=[2,3,4,5]\n",
    "x.append(a)\n",
    "x.append(b)\n",
    "x\n",
    "np.matrix(x)\n",
    "np.transpose(x)"
   ]
  },
  {
   "cell_type": "code",
   "execution_count": 65,
   "metadata": {},
   "outputs": [
    {
     "data": {
      "text/plain": [
       "56"
      ]
     },
     "execution_count": 65,
     "metadata": {},
     "output_type": "execute_result"
    }
   ],
   "source": [
    "import random\n",
    "random.randint(0,100)"
   ]
  },
  {
   "cell_type": "code",
   "execution_count": null,
   "metadata": {},
   "outputs": [],
   "source": []
  }
 ],
 "metadata": {
  "kernelspec": {
   "display_name": "Python 3",
   "language": "python",
   "name": "python3"
  },
  "language_info": {
   "codemirror_mode": {
    "name": "ipython",
    "version": 3
   },
   "file_extension": ".py",
   "mimetype": "text/x-python",
   "name": "python",
   "nbconvert_exporter": "python",
   "pygments_lexer": "ipython3",
   "version": "3.7.0"
  }
 },
 "nbformat": 4,
 "nbformat_minor": 2
}
